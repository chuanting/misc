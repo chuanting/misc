{
 "cells": [
  {
   "cell_type": "code",
   "execution_count": 2,
   "metadata": {},
   "outputs": [],
   "source": [
    "import pandas as pd\n",
    "import numpy as np\n",
    "from keplergl import KeplerGl"
   ]
  },
  {
   "cell_type": "code",
   "execution_count": 3,
   "metadata": {},
   "outputs": [],
   "source": [
    "df_bs = pd.read_csv('D:/Dataset/cell_towers/cell_towers_2020-12-08-T000000.csv')"
   ]
  },
  {
   "cell_type": "code",
   "execution_count": 4,
   "metadata": {},
   "outputs": [
    {
     "data": {
      "text/plain": [
       "(42970548, 14)"
      ]
     },
     "execution_count": 4,
     "metadata": {},
     "output_type": "execute_result"
    }
   ],
   "source": [
    "df_bs.shape"
   ]
  },
  {
   "cell_type": "code",
   "execution_count": 5,
   "metadata": {},
   "outputs": [
    {
     "data": {
      "text/html": [
       "<div>\n",
       "<style scoped>\n",
       "    .dataframe tbody tr th:only-of-type {\n",
       "        vertical-align: middle;\n",
       "    }\n",
       "\n",
       "    .dataframe tbody tr th {\n",
       "        vertical-align: top;\n",
       "    }\n",
       "\n",
       "    .dataframe thead th {\n",
       "        text-align: right;\n",
       "    }\n",
       "</style>\n",
       "<table border=\"1\" class=\"dataframe\">\n",
       "  <thead>\n",
       "    <tr style=\"text-align: right;\">\n",
       "      <th></th>\n",
       "      <th>radio</th>\n",
       "      <th>mcc</th>\n",
       "      <th>net</th>\n",
       "      <th>area</th>\n",
       "      <th>cell</th>\n",
       "      <th>unit</th>\n",
       "      <th>lon</th>\n",
       "      <th>lat</th>\n",
       "      <th>range</th>\n",
       "      <th>samples</th>\n",
       "      <th>changeable</th>\n",
       "      <th>created</th>\n",
       "      <th>updated</th>\n",
       "      <th>averageSignal</th>\n",
       "    </tr>\n",
       "  </thead>\n",
       "  <tbody>\n",
       "    <tr>\n",
       "      <th>0</th>\n",
       "      <td>UMTS</td>\n",
       "      <td>262</td>\n",
       "      <td>2</td>\n",
       "      <td>801</td>\n",
       "      <td>86355</td>\n",
       "      <td>0</td>\n",
       "      <td>13.285512</td>\n",
       "      <td>52.522202</td>\n",
       "      <td>1000</td>\n",
       "      <td>7</td>\n",
       "      <td>1</td>\n",
       "      <td>1282569574</td>\n",
       "      <td>1300155341</td>\n",
       "      <td>0</td>\n",
       "    </tr>\n",
       "    <tr>\n",
       "      <th>1</th>\n",
       "      <td>GSM</td>\n",
       "      <td>262</td>\n",
       "      <td>2</td>\n",
       "      <td>801</td>\n",
       "      <td>1795</td>\n",
       "      <td>0</td>\n",
       "      <td>13.276907</td>\n",
       "      <td>52.525714</td>\n",
       "      <td>5716</td>\n",
       "      <td>9</td>\n",
       "      <td>1</td>\n",
       "      <td>1282569574</td>\n",
       "      <td>1300155341</td>\n",
       "      <td>0</td>\n",
       "    </tr>\n",
       "    <tr>\n",
       "      <th>2</th>\n",
       "      <td>GSM</td>\n",
       "      <td>262</td>\n",
       "      <td>2</td>\n",
       "      <td>801</td>\n",
       "      <td>1794</td>\n",
       "      <td>0</td>\n",
       "      <td>13.285064</td>\n",
       "      <td>52.524000</td>\n",
       "      <td>6280</td>\n",
       "      <td>13</td>\n",
       "      <td>1</td>\n",
       "      <td>1282569574</td>\n",
       "      <td>1300796207</td>\n",
       "      <td>0</td>\n",
       "    </tr>\n",
       "    <tr>\n",
       "      <th>3</th>\n",
       "      <td>UMTS</td>\n",
       "      <td>262</td>\n",
       "      <td>2</td>\n",
       "      <td>801</td>\n",
       "      <td>211250</td>\n",
       "      <td>0</td>\n",
       "      <td>13.285446</td>\n",
       "      <td>52.521744</td>\n",
       "      <td>1000</td>\n",
       "      <td>3</td>\n",
       "      <td>1</td>\n",
       "      <td>1282569574</td>\n",
       "      <td>1299466955</td>\n",
       "      <td>0</td>\n",
       "    </tr>\n",
       "    <tr>\n",
       "      <th>4</th>\n",
       "      <td>UMTS</td>\n",
       "      <td>262</td>\n",
       "      <td>2</td>\n",
       "      <td>801</td>\n",
       "      <td>86353</td>\n",
       "      <td>0</td>\n",
       "      <td>13.293457</td>\n",
       "      <td>52.521515</td>\n",
       "      <td>1000</td>\n",
       "      <td>2</td>\n",
       "      <td>1</td>\n",
       "      <td>1282569574</td>\n",
       "      <td>1291380444</td>\n",
       "      <td>0</td>\n",
       "    </tr>\n",
       "  </tbody>\n",
       "</table>\n",
       "</div>"
      ],
      "text/plain": [
       "  radio  mcc  net  area    cell  unit        lon        lat  range  samples  \\\n",
       "0  UMTS  262    2   801   86355     0  13.285512  52.522202   1000        7   \n",
       "1   GSM  262    2   801    1795     0  13.276907  52.525714   5716        9   \n",
       "2   GSM  262    2   801    1794     0  13.285064  52.524000   6280       13   \n",
       "3  UMTS  262    2   801  211250     0  13.285446  52.521744   1000        3   \n",
       "4  UMTS  262    2   801   86353     0  13.293457  52.521515   1000        2   \n",
       "\n",
       "   changeable     created     updated  averageSignal  \n",
       "0           1  1282569574  1300155341              0  \n",
       "1           1  1282569574  1300155341              0  \n",
       "2           1  1282569574  1300796207              0  \n",
       "3           1  1282569574  1299466955              0  \n",
       "4           1  1282569574  1291380444              0  "
      ]
     },
     "execution_count": 5,
     "metadata": {},
     "output_type": "execute_result"
    }
   ],
   "source": [
    "df_bs.head()"
   ]
  },
  {
   "cell_type": "code",
   "execution_count": 6,
   "metadata": {},
   "outputs": [],
   "source": [
    "df_bs.sample(frac=0.5)[['radio', 'lon', 'lat']].to_csv('d:/bs_world_wide.csv', index=False)"
   ]
  },
  {
   "cell_type": "code",
   "execution_count": 9,
   "metadata": {},
   "outputs": [],
   "source": [
    "df_gsm = df_bs[df_bs['radio']=='GSM']\n",
    "df_umts = df_bs[df_bs['radio']=='UMTS']\n",
    "df_cdma = df_bs[df_bs['radio']=='CDMA']\n",
    "df_lte = df_bs[df_bs['radio']=='LTE']"
   ]
  },
  {
   "cell_type": "code",
   "execution_count": null,
   "metadata": {},
   "outputs": [],
   "source": []
  }
 ],
 "metadata": {
  "kernelspec": {
   "display_name": "Python 3",
   "language": "python",
   "name": "python3"
  },
  "language_info": {
   "codemirror_mode": {
    "name": "ipython",
    "version": 3
   },
   "file_extension": ".py",
   "mimetype": "text/x-python",
   "name": "python",
   "nbconvert_exporter": "python",
   "pygments_lexer": "ipython3",
   "version": "3.7.7"
  }
 },
 "nbformat": 4,
 "nbformat_minor": 4
}
